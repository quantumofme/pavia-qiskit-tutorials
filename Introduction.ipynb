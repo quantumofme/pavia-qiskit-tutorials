{
 "cells": [
  {
   "cell_type": "markdown",
   "metadata": {},
   "source": [
    "# Part 0 - Introduction to Qiskit\n",
    "\n",
    "by **Francesco Tacchino** \n",
    "\n",
    "<p style='text-align: justify;'> In this chapter, you will learn how to import the qiskit library in a python script, how to load your credentials and check that you are ready to go. We will cover a theoretical minumum of qiskit functionalities that will be sufficient to run simple quantum circuits on classical simulators and real cloud-based quantum processors. For more extensive discussions and advanced usage, you can have a look to the official qiskit documentation and tutorials on <a href=\"https://qiskit.org\">https://qiskit.org</a>. </p>\n",
    "\n",
    "<p style='text-align: justify;'> If you are not very familiar with quantum computing routines, you can read section 0.1 here to set up your qiskit, then move directly to <a href=\"Part1.ipynb\">Part 1</a> to work on the basics. You may want to come back to this notebook later to learn about qiskit functionalities. </p>"
   ]
  },
  {
   "cell_type": "markdown",
   "metadata": {},
   "source": [
    "## 0.1 - Setting up qiskit\n",
    "\n",
    "### Importing qiskit\n",
    "\n",
    "<p style='text-align: justify;'> You can import qiskit in a python script as you would do with any other module. The following code does the imports and checks the current version of qiskit. </p>"
   ]
  },
  {
   "cell_type": "code",
   "execution_count": null,
   "metadata": {},
   "outputs": [],
   "source": [
    "# Welcome to qiskit\n",
    "import qiskit as qk\n",
    "\n",
    "myvers = qk.__version__\n",
    "print(\"You are using qiskit version\", myvers)\n",
    "print(\"More details on qiskit components:\",qk.__qiskit_version__)"
   ]
  },
  {
   "cell_type": "markdown",
   "metadata": {},
   "source": [
    "### Credentials\n",
    "\n",
    "<p style='text-align: justify;'> There are several ways of loading the IBMQ credentials allowing you to authenticate to the Quantum Experience. Authentication will give you access to the remote services provided by IBMQ, including the real quantum processors. Before proceeding, go to the <a href=\"https://quantumexperience.ng.bluemix.net/qx/experience\">IBM Quantum Experience website</a>, sign up and obtain an API key. Copy your personal API token below and run the following command to load your credentials for a one-time use. Other methods are available to permanently save credentials on your machine for future reference without the need of manually providing the API token every time (see the online Qiskit tutorial or documentation for these advanced options). Notice that running the following code twice on the same kernel in Jupyter without restarting it may cause a warning or error message (<code>An IBM Quantum Experience account is already in use for the session.</code>). </p>"
   ]
  },
  {
   "cell_type": "code",
   "execution_count": null,
   "metadata": {},
   "outputs": [],
   "source": [
    "my_token = ''\n",
    "# Set up your credentials for the IBM Quantum Experience in one-time mode (easiest)\n",
    "ibmq_provider = qk.IBMQ.enable_account(my_token)"
   ]
  },
  {
   "cell_type": "markdown",
   "metadata": {},
   "source": [
    "<p style='text-align: justify;'> The <code>ibmq_provider</code> object will be your access point to the real devices available on cloud, as we will see below. </p>"
   ]
  },
  {
   "cell_type": "markdown",
   "metadata": {},
   "source": [
    "### The local backends\n",
    "\n",
    "<p style='text-align: justify;'> Local backends are simulation engines for your quantum software running locally on your machine. Of course, they are at best classical emulators of a real quantum processor, but they are very versatile, quick and useful to test your codes and algorithms on small numbers of qubits. You can visualize which of these engines are available by running the following command: </p>"
   ]
  },
  {
   "cell_type": "code",
   "execution_count": null,
   "metadata": {},
   "outputs": [],
   "source": [
    "# Check the available local backends\n",
    "\n",
    "qk.Aer.backends()"
   ]
  },
  {
   "cell_type": "markdown",
   "metadata": {},
   "source": [
    "<p style='text-align: justify;'> The <code>Aer</code> provider belongs to the part of qiskit dealing with simulation of quantum processors on classical machines. It gives you access to the following backends, that you should see among those listed in the output of the command above:</p>\n",
    "\n",
    "* <p style='text-align: justify;'> <code>qasm_simulator</code>: this is the most important local simulator, which allows you to directly run any quantum circuit as if you were working with an ideal quantum processor and get the outcomes in the same form as you would get with real backends. Advaced users can also include and control the noise affecting the computation.</p>\n",
    "* <p style='text-align: justify;'> <code>statevector_simulator</code>: this simulator can be used to compute the final state of the qubits (i.e. a $2^N$-dimensional vector for $N$ qubits) at the end of a quantum circuit. </p>\n",
    "* <p style='text-align: justify;'> <code>unitary_simulator</code>: this simulator works out the algebra of the unitary matrices representing the operations in a quantum circuit. </p>\n",
    "* <p style='text-align: justify;'> <code>pulse_simulator</code>: this is the most recent addition to the qiskit family of simulators, allowing to simulate the experimental control pulses required to operate the real devices. </p>\n",
    "\n",
    "<p style='text-align: justify;'> In this tutorials, we will mainly use the <code>qasm_simulator</code> and the <code>statevector_simulator</code>. Once again, you can learn more about advanced features in the official qiskit tutorials. We recall that <i>QASM</i> stands for <a href=\"https://arxiv.org/abs/1707.03429\">quantum assembly language</a>, which is used to describe the sequence of gates in a low-level manner similarly to how classical codes are compiled to machine-level instructions.</p>"
   ]
  },
  {
   "cell_type": "markdown",
   "metadata": {},
   "source": [
    "### The IBMQ backends\n",
    "\n",
    "<p style='text-align: justify;'> The <code>ibmq_provider</code> stands for the remote IBM Quantum Experience giving you access to real quantum processors. In order to successfully use such backends, you will need to load your credentials (one method was explained in a paragraph above), containing a personal API key connected with your account. Once authenticated, run the following command to check the available remote IBMQ backends:</p>"
   ]
  },
  {
   "cell_type": "code",
   "execution_count": null,
   "metadata": {},
   "outputs": [],
   "source": [
    "# Check the available cloud-based backends\n",
    "\n",
    "ibmq_provider.backends()"
   ]
  },
  {
   "cell_type": "markdown",
   "metadata": {},
   "source": [
    "<p style='text-align: justify;'> In the output, you should get a list of backends whose names start with <code>ibmq</code>. Most of them are real quantum processors, such as</p>\n",
    "\n",
    "* <p style='text-align: justify;'> <code>ibmqx2</code>: a 5-qubit quantum chip, also nicknamed 'Yorktown' </p>\n",
    "* <p style='text-align: justify;'> <code>ibmq_16_melbourne</code>: the 14-qubit quantum chip </p>\n",
    "\n",
    "<p style='text-align: justify;'> Through the quantum experience you have also access to a hpc simulator, named <code>ibmq_qasm_simulator</code>: it is essentially a remote version of the local <code>qasm_simulator</code> but with extended computational power, allowing simulations of circuits containing up to 32 qubits. Remember, however, that this is not a real quantum processor!</p>"
   ]
  },
  {
   "cell_type": "markdown",
   "metadata": {},
   "source": [
    "## 0.2 - Writing and running quantum code\n",
    "\n",
    "### A quantum program\n",
    "\n",
    "<p style='text-align: justify;'> Programming a sequence of gates and measurements (i.e. a quantum circuit) in qiskit can be done in a few easy steps. First of all, we have to declare how many qubits (a <i>quantum register</i>) we want to use, and how many classical bits (a <i>classical register</i>) we will need to write the outcome of the quantum measurements at the end of the circuit. For a simple example, we will use 2 qubits and 2 bits:</p>"
   ]
  },
  {
   "cell_type": "code",
   "execution_count": null,
   "metadata": {},
   "outputs": [],
   "source": [
    "qr = qk.QuantumRegister(2,name='qreg')\n",
    "cr = qk.ClassicalRegister(2,name='creg')\n",
    "qc = qk.QuantumCircuit(qr,cr,name='test_circ')  # A QuantumCircuit is composed of quantum and classical registers"
   ]
  },
  {
   "cell_type": "markdown",
   "metadata": {},
   "source": [
    "<p style='text-align: justify;'> Naming the registers and the circuit is optional, but can be useful for clarity and future reference. The <code>QuantumCircuit</code> object contains all the tools required to manipulate and build your sequences and instructions. The most important feature is, of course, the possibility to add quantum gates acting on specific qubits. For example, let us add a single qubit $\\mathrm{NOT}$ (named $\\mathrm{X}$ in the context of quantum computing) gate to the first qubit in our register <code>qr</code> included in circuit <code>qc</code>: </p>"
   ]
  },
  {
   "cell_type": "code",
   "execution_count": null,
   "metadata": {},
   "outputs": [],
   "source": [
    "qc.x(qr[0])"
   ]
  },
  {
   "cell_type": "markdown",
   "metadata": {},
   "source": [
    "<p style='text-align: justify;'> When writing sequences of gates, you can use normal python commands such as <code>for</code> cycles to add multiple gates. For example, let us add Hadamard gates on both qubits in <code>qr</code>:</p>"
   ]
  },
  {
   "cell_type": "code",
   "execution_count": null,
   "metadata": {},
   "outputs": [],
   "source": [
    "for indx in range(2):\n",
    "    qc.h(qr[indx])"
   ]
  },
  {
   "cell_type": "markdown",
   "metadata": {},
   "source": [
    "<p style='text-align: justify;'> Remember that in qiskit all the qubits are conventionally initialized in the blank state $\\left|0\\right\\rangle$ at the beginning of a circuit. You sould also pay attention that, as it is common in python, the register indeces start at 0 (i.e. the first qubit of <code>qr</code> is <code>qr[0]</code>). </p>\n",
    "  \n",
    "<p style='text-align: justify;'> Qiskit can handle a large set of single qubit gates: you can see all the options and the syntax in the official qiskit tutorials, and many examples will be also shown in the remaining of these notes. The native two qubit gate completing a universal set for quantum computation is the $\\mathrm{CX}$ (known also as $\\mathrm{CNOT}$) gate. The syntax is the following:</p>"
   ]
  },
  {
   "cell_type": "code",
   "execution_count": null,
   "metadata": {},
   "outputs": [],
   "source": [
    "qc.cx(qr[0],qr[1]) # The first entry is the control qubit, the second entry is the target qubit for the CNOT"
   ]
  },
  {
   "cell_type": "markdown",
   "metadata": {},
   "source": [
    "<p style='text-align: justify;'> At the end of your cicruit, you may want to measure some (or all) of your qubits. Qiskit provides a measurement in the standard computational basis (i.e. the set of eigenstates of the Pauli matrix $\\sigma_z$ for each qubit). Later in these notes, we will learn how to select a different basis for your measurements. When including a measurement in the circuit, you can choose the classical bit to which each qubit will be mapped:</p>"
   ]
  },
  {
   "cell_type": "code",
   "execution_count": null,
   "metadata": {},
   "outputs": [],
   "source": [
    "qc.measure(qr[0],cr[0])\n",
    "qc.measure(qr[1],cr[1])"
   ]
  },
  {
   "cell_type": "markdown",
   "metadata": {},
   "source": [
    "<p style='text-align: justify;'> Now that the circuit is complete, you can visualize it directly in qiskit. Notice that the registers will be labeled with the optional names we selected at the beginning:</p>"
   ]
  },
  {
   "cell_type": "code",
   "execution_count": null,
   "metadata": {},
   "outputs": [],
   "source": [
    "qc.draw()"
   ]
  },
  {
   "cell_type": "markdown",
   "metadata": {},
   "source": [
    "<p style='text-align: justify;'> You can also ask for a matplotlib rendering style:</p>"
   ]
  },
  {
   "cell_type": "code",
   "execution_count": null,
   "metadata": {},
   "outputs": [],
   "source": [
    "qc.draw(output='mpl')"
   ]
  },
  {
   "cell_type": "markdown",
   "metadata": {},
   "source": [
    "### Running the program locally\n",
    "\n",
    "<p style='text-align: justify;'> To run a quantum program, we need first to select a backend. Let us start with the local simulator:</p>"
   ]
  },
  {
   "cell_type": "code",
   "execution_count": null,
   "metadata": {},
   "outputs": [],
   "source": [
    "backend1 = qk.Aer.get_backend('qasm_simulator')"
   ]
  },
  {
   "cell_type": "markdown",
   "metadata": {},
   "source": [
    "<p style='text-align: justify;'> We can then directly ask qiskit to execute our circuit:</p>"
   ]
  },
  {
   "cell_type": "code",
   "execution_count": null,
   "metadata": {},
   "outputs": [],
   "source": [
    "job1 = qk.execute(qc, backend1, shots=1024) # The shots are the number of times the circuit will be run.\n",
    "                                            # More shots will mean better reconstruction of the measurement\n",
    "                                            # statistics, but also longer execution times"
   ]
  },
  {
   "cell_type": "markdown",
   "metadata": {},
   "source": [
    "<p style='text-align: justify;'> After the command above has completed its execution, we can ask for the results in the following way:</p>"
   ]
  },
  {
   "cell_type": "code",
   "execution_count": null,
   "metadata": {},
   "outputs": [],
   "source": [
    "result1 = job1.result()\n",
    "counts1 = result1.get_counts(qc)\n",
    "print(counts1)"
   ]
  },
  {
   "cell_type": "markdown",
   "metadata": {},
   "source": [
    "<p style='text-align: justify;'> Notice that the rightmost bit in the output (e.g. the 0 in <code>10</code>) represents <code>cr[0]</code> and the index of <code>cr</code> bits increases towards the left. Remember that the results are probabilistic, so running this notebook twice could give slightly different counts. We can also make a nice histogram of the results:</p>"
   ]
  },
  {
   "cell_type": "code",
   "execution_count": null,
   "metadata": {},
   "outputs": [],
   "source": [
    "from qiskit.tools.visualization import plot_histogram\n",
    "plot_histogram(counts1)"
   ]
  },
  {
   "cell_type": "markdown",
   "metadata": {},
   "source": [
    "### Running on IBMQ real backends\n",
    "\n",
    "<p style='text-align: justify;'> Running your quantum code on a remote real quantum processor requires very little modifications from what we have already done. In particular, there are no changes at all in how to prepare and write the <code>qc</code> object. We just need to select one of the available remote IBMQ chips as our backend:</p>"
   ]
  },
  {
   "cell_type": "code",
   "execution_count": null,
   "metadata": {},
   "outputs": [],
   "source": [
    "backend2 = ibmq_provider.get_backend('ibmqx2')"
   ]
  },
  {
   "cell_type": "markdown",
   "metadata": {},
   "source": [
    "<p style='text-align: justify;'> We can then ask again qiskit to run our circuit, this time on the <code>ibmqx2</code> processor. If the number of qubits in <code>qr</code> can fit into the real chip (as it is the case now), qiskit will automatically take care of selecting the right qubits on which the circuit will be mapped and to adjust the topology of the $\\mathrm{CX}$ gates if that is needed (more on this in a moment). The execution now will last longer because we will have to wait in the job queue of the public device.</p>"
   ]
  },
  {
   "cell_type": "code",
   "execution_count": null,
   "metadata": {},
   "outputs": [],
   "source": [
    "job2 = qk.execute(qc, backend=backend2, shots=1024)"
   ]
  },
  {
   "cell_type": "markdown",
   "metadata": {},
   "source": [
    "<p style='text-align: justify;'> The command above will actually only submit your request to the IBMQ server. The job will then stay in the queue and it will eventually be executed. You can get real time updates on the status of your job by using the following command:</p>"
   ]
  },
  {
   "cell_type": "code",
   "execution_count": null,
   "metadata": {},
   "outputs": [],
   "source": [
    "from qiskit.tools.monitor import job_monitor\n",
    "job_monitor(job2, interval=5)"
   ]
  },
  {
   "cell_type": "markdown",
   "metadata": {},
   "source": [
    "<p style='text-align: justify;'> The previous command will put your python script on hold, with the above output being updated every <code>interval</code> until the job is executed. </p>\n",
    "\n",
    "<p style='text-align: justify;'> Once the execution is complete, you can retrieve the results as done above for the local version:</p>"
   ]
  },
  {
   "cell_type": "code",
   "execution_count": null,
   "metadata": {},
   "outputs": [],
   "source": [
    "result2 = job2.result()\n",
    "counts2 = result2.get_counts(qc)\n",
    "print(counts2)\n",
    "plot_histogram(counts2)"
   ]
  },
  {
   "cell_type": "markdown",
   "metadata": {},
   "source": [
    "<p style='text-align: justify;'> Every job you submit to the IBM Quantum Experience gets a unique ID that you can read and save for future reference:</p>"
   ]
  },
  {
   "cell_type": "code",
   "execution_count": null,
   "metadata": {},
   "outputs": [],
   "source": [
    "jobID = job2.job_id()\n",
    "print(jobID)"
   ]
  },
  {
   "cell_type": "markdown",
   "metadata": {},
   "source": [
    "<p style='text-align: justify;'> For example, with the <code>jobID</code> you can retrieve your job from the server, and extract the results (this is particularly useful if the execution queue takes longer than you can wait online):</p>"
   ]
  },
  {
   "cell_type": "code",
   "execution_count": null,
   "metadata": {},
   "outputs": [],
   "source": [
    "job_get = backend2.retrieve_job(jobID)\n",
    "counts_get = job_get.result().get_counts()\n",
    "print(counts_get)"
   ]
  },
  {
   "cell_type": "markdown",
   "metadata": {},
   "source": [
    "<p style='text-align: justify;'> We can use the hystogram plotting function to compare the ideal (local simulator) and experimental results:</p>"
   ]
  },
  {
   "cell_type": "code",
   "execution_count": null,
   "metadata": {},
   "outputs": [],
   "source": [
    "plot_histogram([counts1,counts_get])"
   ]
  },
  {
   "cell_type": "markdown",
   "metadata": {},
   "source": [
    "#### <i>Bonus track</i> - Choosing the layout on real backends\n",
    "\n",
    "<p style='text-align: justify;'> This subsection is rather technical and you can skip it if you are not immediately interested. You may come here later if you want to learn more about how to map your quantum circuits to specific sets of qubits on the real devices.</p>\n",
    "\n",
    "<p style='text-align: justify;'> When running a quantum circuit on IBMQ real backends, you should always keep in mind the fact that these prototypes are not ideal, in the sense that they are noisy, the qubits are not all identical and the connectivity between qubits is not <i>all-to-all</i>. In particular, whenever your circuit contains two-qubit $\\mathrm{CX}$ gates, it is not always possible to run it on the selected backend as it stands, since the two qubits involved may not be directly connected. Qiskit is able to deal with most of these issues related to mapping an abstract circuit to the real processor in an automated way, but you should be aware that this can result in a modified version of the circuit being actually run on the chip. This modified circuit may be longer than the original one, and therefore affected by larger amounts of noise and errors, leading to worse performances. </p>\n",
    "\n",
    "<p style='text-align: justify;'> Whenever possible and particularly to optimize specific applications, you should always try to consider the structure of the backend already when designig the quantum circuit. You might also want to select a specifig group of the available qubits to run your quantum code. In all these cases, qiskit lets you specify your preferred mapping of a circuit to the physical qubits with a layout option. To begin with, we can get visual information about the <i>connectivity</i> of a real backed with the following command:</p>"
   ]
  },
  {
   "cell_type": "code",
   "execution_count": null,
   "metadata": {},
   "outputs": [],
   "source": [
    "from qiskit.tools.visualization import plot_gate_map\n",
    "\n",
    "print('List of pairwise connection between qubits available for CNOT operations:\\n',\n",
    "      backend2.configuration().coupling_map)\n",
    "\n",
    "plot_gate_map(backend2)"
   ]
  },
  {
   "cell_type": "markdown",
   "metadata": {},
   "source": [
    "<p style='text-align: justify;'> Let us now suppose that we want to run our <code>qc</code> circuit on <code>ibmqx2</code> mapping qubits 0 and 1 of our abstract quantum register <code>qr</code> to qubits 3 and 4 of the chip. Notice that a $\\mathrm{CX}(q_3,q_4)$ with qubit 3 acting as control and qubit 4 as target is directly available on the processor. First, we sepcify the desired layout:</p>"
   ]
  },
  {
   "cell_type": "code",
   "execution_count": null,
   "metadata": {},
   "outputs": [],
   "source": [
    "custom_layout = [3,4] # abstract qr[0] will be mapped in q[3] on the device\n",
    "                      # abstract qr[1] will be mapped in q[4] on the device"
   ]
  },
  {
   "cell_type": "markdown",
   "metadata": {},
   "source": [
    "<p style='text-align: justify;'> Then, we tell qiskit to compile our circuit for the required backend by using our initial layout as a starting point. If the <code>custom_layout</code> lets the circuit be mapped as it is on the chip (i.e. if all the two qubit gates are connected when, for example, qubits 3 and 4 on the chip represent qubits 0 and 1 of the abstract circuits), the original circuit will not be modified nor made longer, but mapped directly on the real backend as we wanted it originally.</p>"
   ]
  },
  {
   "cell_type": "code",
   "execution_count": null,
   "metadata": {},
   "outputs": [],
   "source": [
    "compiled_qc = qk.transpile(qc,backend = backend2,initial_layout = custom_layout,optimization_level=0)\n",
    "compiled_qc.draw()"
   ]
  },
  {
   "cell_type": "markdown",
   "metadata": {},
   "source": [
    "<p style='text-align: justify;'> Notice that some of the gates have changed name: more on this in <a href=\"Part1.ipynb\">Part 1</a>. The <code>optimization_level</code> argument can be set to any interger between 0 (the circuit is just mapped on the device with no further optimization) and 3 (some optimization is carried out in order to simplify the circuit, possibly modifying the sequence of gates into an equivalent one).</p> \n",
    "\n",
    "<p style='text-align: justify;'> We can see which qubits on the device are involved in the mapping as follows:</p>"
   ]
  },
  {
   "cell_type": "code",
   "execution_count": null,
   "metadata": {},
   "outputs": [],
   "source": [
    "from qiskit.tools.visualization import plot_circuit_layout\n",
    "\n",
    "plot_circuit_layout(compiled_qc,backend2)"
   ]
  },
  {
   "cell_type": "markdown",
   "metadata": {},
   "source": [
    "<p style='text-align: justify;'> We can then assemble and run the compiled quantum circuit with the following command:</p>"
   ]
  },
  {
   "cell_type": "code",
   "execution_count": null,
   "metadata": {},
   "outputs": [],
   "source": [
    "compiled_qobj = qk.assemble(compiled_qc,shots=1024)\n",
    "job3 = backend2.run(compiled_qobj)"
   ]
  },
  {
   "cell_type": "markdown",
   "metadata": {},
   "source": [
    "<p style='text-align: justify;'> The <code>job3</code> object is now equivalent to <code>job2</code> above, and can be treated in the same way for monitoring status and retrieving results. All the compilation operations shown above can also be more directly carried out within the <code>execute</code> command:</p>"
   ]
  },
  {
   "cell_type": "code",
   "execution_count": null,
   "metadata": {},
   "outputs": [],
   "source": [
    "job4 = qk.execute(qc,backend=backend2,shots=1024,initial_layout=custom_layout,optimization_level=0)"
   ]
  },
  {
   "cell_type": "markdown",
   "metadata": {},
   "source": [
    "<p style='text-align: justify;'> In order to appreciate the difference between a better and a worse choice of the layout, below we show the compiled version of the same circuit <code>qc</code> but with a bad choice of the mapping.</p>"
   ]
  },
  {
   "cell_type": "code",
   "execution_count": null,
   "metadata": {},
   "outputs": [],
   "source": [
    "custom_layout_bad = [1,3] # There is no 1 -> 3 connection on the device\n",
    "compiled_qc_bad = qk.transpile(qc, backend = backend2, initial_layout = custom_layout_bad,optimization_level=0)\n",
    "\n",
    "compiled_qc_bad.draw(output='mpl')"
   ]
  },
  {
   "cell_type": "code",
   "execution_count": null,
   "metadata": {},
   "outputs": [],
   "source": [
    "plot_circuit_layout(compiled_qc_bad,backend2)"
   ]
  },
  {
   "cell_type": "markdown",
   "metadata": {},
   "source": [
    "<p style='text-align: justify;'> The compiled circuit is again formally equivalent to the original one, in the sense that the overall unitary transformation is the same, but the structure is changed, and the circuit is longer. Notice that again, single qubit gates are translated in some general parametrized unitaries (<code>u2</code>, <code>u3</code>), which are the native single-qubit gates on the IBMQ chips.</p>"
   ]
  },
  {
   "cell_type": "markdown",
   "metadata": {
    "collapsed": true
   },
   "source": [
    "## Exercises\n",
    "\n",
    "* <p style='text-align: justify;'> <b>Exercise 0.1</b> Run again this notebook (after restarting the Jupyter kernel!) without enabling your credentials. How do the available local and IBMQ backends change?</p>\n",
    "* <p style='text-align: justify;'> <b>Exercise 0.2</b> Map the following abstract circuit on a remote IBMQ backend, eploring layout and optimization options:"
   ]
  },
  {
   "cell_type": "code",
   "execution_count": null,
   "metadata": {},
   "outputs": [],
   "source": [
    "qr = qk.QuantumRegister(5,name='qreg')\n",
    "cr = qk.ClassicalRegister(5,name='creg')\n",
    "qc = qk.QuantumCircuit(qr,cr,name='exercise')\n",
    "\n",
    "qc.h(qr[0])\n",
    "for i in range(1,5):\n",
    "    qc.cx(qr[0],qr[i])\n",
    "\n",
    "qc.draw(output='mpl')"
   ]
  },
  {
   "cell_type": "markdown",
   "metadata": {},
   "source": [
    "* <p style='text-align: justify;'> <b>Exercise 0.3</b> Run an experiment, either on local or on remote backends, implementing the following unitary transformation on two qubits $q_0$ and $q_1$ starting from the blank state $|00\\rangle$:\n",
    "$$ U = \\mathrm{X}_{q_0} \\, \\mathrm{CX}(q_0,q_1) \\, \\mathrm{H}_{q_0} $$ (<i>hint</i>: pay attention to the order in which the gates appear in the formula with respect to the order of gates in the circuit).</p>"
   ]
  }
 ],
 "metadata": {
  "kernelspec": {
   "display_name": "Python 3",
   "language": "python",
   "name": "python3"
  },
  "language_info": {
   "codemirror_mode": {
    "name": "ipython",
    "version": 3
   },
   "file_extension": ".py",
   "mimetype": "text/x-python",
   "name": "python",
   "nbconvert_exporter": "python",
   "pygments_lexer": "ipython3",
   "version": "3.6.12"
  }
 },
 "nbformat": 4,
 "nbformat_minor": 2
}
